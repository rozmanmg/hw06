{
 "cells": [
  {
   "cell_type": "markdown",
   "id": "6e4f8393-b0c9-49f4-93b5-6ccbb81ddeb9",
   "metadata": {},
   "source": [
    "\n",
    "# Nonlinear dissipative systems and limit cycles"
   ]
  },
  {
   "cell_type": "markdown",
   "id": "146a9008-7f03-4c62-aa52-cbcc570e30a0",
   "metadata": {},
   "source": [
    "\n",
    "### Van der Pol oscillator"
   ]
  },
  {
   "cell_type": "markdown",
   "id": "72f7a476-0981-432d-acc3-dd76e154e161",
   "metadata": {},
   "source": [
    "\n",
    "The second order non-linear autonomous differential equation\n",
    "$$\n",
    "    your \\; markdown \\; for \\; van \\; der \\; Pol \\; equation \\; here\n",
    "$$\n",
    "is called *van der Pol equation*.  The equation models a\n",
    "  non-conservative system in which energy is added to and subtracted\n",
    "  from.  The sign of the ``coefficient'' in the damping term in\n",
    "  van der Pol equation, $\\displaystyle \\left( x^2 - 1 \\right)$ changes,\n",
    "  depending whether $|x|$ is larger or smaller than one, describing\n",
    "  the inflow and outflow of the energy.\n",
    "\n",
    "  The equation was originally proposed in the 1920s to describe stable\n",
    "  oscillations in electrical circuits employing vacuum tubes. By now,\n",
    "  the van der Pol equation (under different names) has a long history\n",
    "  of being used in physical and biological sciences."
   ]
  },
  {
   "cell_type": "markdown",
   "id": "e238142d-e4bd-4885-b603-e0a1c34dc373",
   "metadata": {},
   "source": [
    "\n",
    "### Limit cycles"
   ]
  },
  {
   "cell_type": "markdown",
   "id": "b7ba4350-54f6-4543-a683-7cbc79d2f7cb",
   "metadata": {},
   "source": [
    "\n",
    "  Van der Pol oscillator is an example of a system that exibits the so\n",
    "  called *limit cycle*.  A limit cycle is an isolated closed\n",
    "  trajectory $\\dot{x} = \\dot{x}(x)$ in the phase space $(x,\n",
    "  \\dot{x})$. Isolated means that neighboring trajectories are not\n",
    "  closed; they spiral either toward or away from the limit cycle. If\n",
    "  all neighboring trajectories approach the limit cycle, we say the\n",
    "  limit cycle is stable or attracting. Otherwise the limit cycle is in\n",
    "  general unstable.\n",
    "\n",
    "  Stable limit cycles model systems, e.g. the beating of a heart,\n",
    "  that exhibit self-sustained oscillations. These systems oscillate\n",
    "  even in the absence of external periodic forcing.  There is a\n",
    "  standard oscillation of some preferred period, waveform, and\n",
    "  amplitude. If the system is perturbed slightly, it returns to the\n",
    "  standard cycle.\n",
    "\n",
    "  Limit cycles are inherently nonlinear phenomena. They can't occur in\n",
    "  linear systerns. Of course, a linear system, such as a linear\n",
    "  differential equation, can have closed orbits -- periodic solutions,\n",
    "  but they won't be isolated. If $x(t)$ is a periodic solution, then\n",
    "  so is $\\alpha x(t)$ for any constant $\\alpha \\not= 0$. Hence $x(t)$\n",
    "  is surrounded by a 'family' of closed orbits. Consequently, the\n",
    "  amplitude of a linear oscillation is set entirely by its initial\n",
    "  conditions. Any slight disturbance to the amplitude will persist\n",
    "  forever. In contrast, limit cycle oscillations are determined by the\n",
    "  structure of the system itself.\n",
    "\n",
    "  Limit cycles are only possible in systems with dissipation. System\n",
    "  that conserve energy do not have isolated closed trajectories."
   ]
  },
  {
   "cell_type": "markdown",
   "id": "f4f23749-4ba2-4620-8092-396fbe92af54",
   "metadata": {},
   "source": [
    "\n",
    "### Assignment\n",
    "\n",
    "The goal of the assignment is to investigate numerically the limit cycle of weakly-nonlinear van der Pol oscillator. Runge-Kutta midpoint method for a system of first order ordinary differentialions need to be implemented and used. "
   ]
  },
  {
   "cell_type": "markdown",
   "id": "7d4e74d2-9456-4a63-8b91-43385d55de38",
   "metadata": {},
   "source": [
    "\n",
    "#### Step 1. \n",
    "\n",
    "Start from your implementation of Runge-Kutta midpoint method from HW04, and modify your code so that it can solve systems of first order ordinary differential equations. "
   ]
  },
  {
   "cell_type": "code",
   "execution_count": null,
   "id": "9ee6f182-e785-45dd-aa38-44d3cd40c99c",
   "metadata": {},
   "outputs": [],
   "source": [
    "\n",
    "\"\"\"\n",
    "    t, y = myrkmidv(fun, a, b, n, y1)\n",
    "\n",
    "Solve IVP y' = fun(t, y), a <= t <= b, y(a) = y1 using midpoint method.\n",
    "Use the integration step h = (b - a)/(n - 1). Return a vector of values \n",
    "of the independent variable, t_i, and a matrix of correspondinig values \n",
    "of the solution, y(t_i).\n",
    "\"\"\"\n",
    "function myrkmidv(fun, a, b, n, y1)\n",
    "    # your code here\n",
    "end"
   ]
  },
  {
   "cell_type": "markdown",
   "id": "ee1ce769-70ef-448c-9b79-5dc768be3dab",
   "metadata": {},
   "source": [
    "\n",
    "#### Step 2.\n",
    "\n",
    "Write the code for the function `vanderpol(t, y)` that implements the right-hand side of the system of first order differential equations that is equivalent to the van der Pol equation. "
   ]
  },
  {
   "cell_type": "code",
   "execution_count": null,
   "id": "a93502b5-d935-403f-ac6f-70f8992979be",
   "metadata": {},
   "outputs": [],
   "source": [
    "\n",
    "\"\"\"\n",
    "    dydt = vanderpol(t, y)\n",
    "\n",
    "RHS of van der Pol ODE when it is written as a system of ordinary differential equations\n",
    "\"\"\"\n",
    "function vanderpol(t, y)\n",
    "    global mu  # indicate that the value of mu comes from the outside of the function\n",
    "    # your code here\n",
    "end"
   ]
  },
  {
   "cell_type": "markdown",
   "id": "998eb4d8-2082-414e-9c7a-67045c517323",
   "metadata": {},
   "source": [
    "\n",
    "#### Step 3."
   ]
  },
  {
   "cell_type": "markdown",
   "id": "4d7de8ba-b6b3-4db7-8c9c-6c53bf482566",
   "metadata": {},
   "source": [
    "\n",
    "Use the following parameters to solve the equations:"
   ]
  },
  {
   "cell_type": "code",
   "execution_count": null,
   "id": "954d19cf-d766-4fcb-9b71-00c746a5e863",
   "metadata": {},
   "outputs": [],
   "source": [
    "\n",
    "const mu = 0.1   # the global variable mu is defined here"
   ]
  },
  {
   "cell_type": "code",
   "execution_count": null,
   "id": "34e2db29-dc10-478f-b6ee-5c2b59c26b6d",
   "metadata": {},
   "outputs": [],
   "source": [
    "\n",
    "a = 0.0\n",
    "b = 60.0\n",
    "n = 1000;"
   ]
  },
  {
   "cell_type": "markdown",
   "id": "31f48978-f7c3-415b-8f9a-f6826f076851",
   "metadata": {},
   "source": [
    "\n",
    "Specify the initial conditions:"
   ]
  },
  {
   "cell_type": "code",
   "execution_count": null,
   "id": "58c036ce-5d25-41df-aa5d-2fde6788daca",
   "metadata": {},
   "outputs": [],
   "source": [
    "\n",
    "y1a = [1.0, 0.0]"
   ]
  },
  {
   "cell_type": "markdown",
   "id": "31ba4f03-edf0-41e5-a342-4ed884f8305b",
   "metadata": {},
   "source": [
    "\n",
    "#### Step 4.\n",
    "\n",
    "Solve the equation"
   ]
  },
  {
   "cell_type": "code",
   "execution_count": null,
   "id": "5b0a102b-453d-4772-bd4d-ef96eb57fcba",
   "metadata": {},
   "outputs": [],
   "source": [
    "\n",
    "ta, ya = myrkmidv(vanderpol, a, b, n, y1a);"
   ]
  },
  {
   "cell_type": "markdown",
   "id": "d2005e60-49ee-4c10-b1d0-80b912116551",
   "metadata": {},
   "source": [
    "\n",
    "#### Step 5: Plotting"
   ]
  },
  {
   "cell_type": "markdown",
   "id": "a3e2426a-6ac1-4b85-959a-4953a9f6f62e",
   "metadata": {},
   "source": [
    "\n",
    "Plot the position and the velocity of the oscillator vs time:"
   ]
  },
  {
   "cell_type": "code",
   "execution_count": null,
   "id": "72dbcd2b-5773-428e-b677-2c61095a72be",
   "metadata": {},
   "outputs": [],
   "source": [
    "\n",
    "using PyPlot"
   ]
  },
  {
   "cell_type": "code",
   "execution_count": null,
   "id": "12d2a4be-7929-45c2-ab2f-1deeb368403f",
   "metadata": {},
   "outputs": [],
   "source": [
    "\n",
    "plot(your code here, label=\"position\")\n",
    "plot(your code here, label=\"velocity\")\n",
    "# your code here"
   ]
  },
  {
   "cell_type": "markdown",
   "id": "c0144877-1f68-4745-8986-d3763301a241",
   "metadata": {},
   "source": [
    "Plot the trajectory in the phase plane:"
   ]
  },
  {
   "cell_type": "code",
   "execution_count": null,
   "id": "7bc72dfc-3974-4db0-9235-15869bd2e68e",
   "metadata": {},
   "outputs": [],
   "source": [
    "\n",
    "plot(your code here, label=\"a\")\n",
    "scatter(y1a...)\n",
    "# your code here\n",
    "axis(\"equal\");"
   ]
  },
  {
   "cell_type": "markdown",
   "id": "c97fcff1-9c82-4c84-8f51-60537cf5c8c4",
   "metadata": {},
   "source": [
    "\n",
    "#### Step 6. Investigate stability of the limit cycle"
   ]
  },
  {
   "cell_type": "markdown",
   "id": "c4ed545e-15e7-4c39-959a-e1741dfda552",
   "metadata": {},
   "source": [
    "\n",
    "As you can see from the phase plot above, at $t$ is increasing, the phase trajectory is approching a limiting trajectory. \n",
    "\n",
    "To investigate the stability of this limiting trajectory, select the second initial conditions for a phase space trajectory that starts outside the limiting trajectory:"
   ]
  },
  {
   "cell_type": "code",
   "execution_count": null,
   "id": "7f0400f1-e22a-4711-b78a-6757393abffe",
   "metadata": {},
   "outputs": [],
   "source": [
    "\n",
    "y1b = [your values here]"
   ]
  },
  {
   "cell_type": "markdown",
   "id": "a6ffd7bc-3d90-41a0-bbc8-e9ee149c526f",
   "metadata": {},
   "source": [
    "\n",
    "Run your second calculations."
   ]
  },
  {
   "cell_type": "code",
   "execution_count": null,
   "id": "b4063d21-dc79-4b71-8459-ade65d35b67d",
   "metadata": {},
   "outputs": [],
   "source": [
    "\n",
    "tb, yb = myrkmidv(vanderpol, a, b, n, y1b);"
   ]
  },
  {
   "cell_type": "markdown",
   "id": "33e45db7-22c5-48f7-b1c4-68c6e2dbaba8",
   "metadata": {},
   "source": [
    "\n",
    "Plot both calculated phase trajectories in the same figure. Mark the starting points of the trajectories."
   ]
  },
  {
   "cell_type": "code",
   "execution_count": null,
   "id": "bdcdf560-a8dc-47ce-bede-b50c2c942838",
   "metadata": {},
   "outputs": [],
   "source": [
    "\n",
    "plot(your code here, label=\"a\")\n",
    "scatter(y1a...)\n",
    "plot(your code here, label=\"b\")\n",
    "scatter(y1b...)\n",
    "# your code here\n",
    "axis(\"equal\");"
   ]
  },
  {
   "cell_type": "markdown",
   "id": "af3cb7b6-697b-4dea-a0dc-7cc2753b0b94",
   "metadata": {},
   "source": [
    "\n",
    "Based on the results of your calculations, specify whetrher the limit cycle of the van der Pol equation is unstable, seme-stable, or stable one. Explain."
   ]
  },
  {
   "cell_type": "code",
   "execution_count": null,
   "id": "9f4f65d1-6617-40eb-b654-e3e9b0008442",
   "metadata": {},
   "outputs": [],
   "source": []
  }
 ],
 "metadata": {
  "kernelspec": {
   "display_name": "Julia 1.11.6",
   "language": "julia",
   "name": "julia-1.11"
  },
  "language_info": {
   "file_extension": ".jl",
   "mimetype": "application/julia",
   "name": "julia",
   "version": "1.11.6"
  }
 },
 "nbformat": 4,
 "nbformat_minor": 5
}
