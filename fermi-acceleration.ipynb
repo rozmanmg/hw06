{
 "cells": [
  {
   "cell_type": "markdown",
   "id": "5e8b080b-2139-4f3e-9347-f183c25ada3c",
   "metadata": {},
   "source": [
    "# Fermi acceleration"
   ]
  },
  {
   "cell_type": "markdown",
   "id": "0830b9bf-f077-4fcd-b137-bf16b0e54311",
   "metadata": {},
   "source": [
    "\n",
    "*Fermi acceleration* is a mechanism, first suggested by Enrico Fermi in 1949, \n",
    "to explain acceleration of charged particles in cosmic rays. Fermi studied particles being\n",
    "reflected by the moving interstellar magnetic field and either gaining or losing energy,\n",
    "depending on whether the ”magnetic mirror” is approaching or receding. In a typical\n",
    "environment, Fermi argued, the probability of a head-on collision is greater than a\n",
    "head-tail collision, so particles would, on average, be accelerated. Since then Fermi\n",
    "acceleration has been used to explain a number of natural phenomena and several\n",
    "simple mathematical models demonstrating Fermi acceleration have been proposed.\n",
    "\n",
    "One of a simple mathematical models proposed to describe the Fermi acceleration is\n",
    "the so-called The Fermi-Ulam model. Consider a particle that moves vertically in the\n",
    "uniform gravitational field with the acceleration of gravity g. The particle elastically\n",
    "collides with a harmonically oscillating floor and the stationary ceiling. The floor and\n",
    "the ceiling represent the magnetic mirrors which reflect the cosmic particles."
   ]
  },
  {
   "cell_type": "markdown",
   "id": "919538f8-afd8-4573-a105-182a90900ed8",
   "metadata": {},
   "source": [
    "\n",
    "Consider a mass moving in a vertical direction (acceleration of gravity $g$) and bouncing elastically from a floor that oscillates harmonically, with the amplitude $a$ and frequency $\\omega$, \n",
    "\n",
    "$$h(t) = a \\sin(\\omega t) . $$\n",
    "\n",
    "and, ocasionally, from a stationary ceiling located at height $l$. \n",
    "\n",
    "The velocity of the floor,\n",
    "\n",
    "$$v_{floor} \\equiv \\frac{\\mathrm{d}h}{\\mathrm{d}t} = a \\omega \\cos(\\omega t) .$$ "
   ]
  },
  {
   "cell_type": "markdown",
   "id": "e151ea40-f5cf-4c45-876f-75ff9bf1f7fe",
   "metadata": {},
   "source": [
    "Since the collision ball-floor is elastic, the velocities of the ball just before and after the collision are related as follows:\n",
    "\n",
    "$$v_{after} =  -v_{before} + 2 v_{floor} = -v_{before} + 2 a \\omega \\cos(\\omega t), $$\n",
    "\n",
    "where $t$ is the instance of a collision, and $v_{floor}$ is the velocity of the floor at the instance of collision.\n",
    "\n",
    "The velocities of the ball just before and after the collision with the stationary ceiling are:\n",
    "\n",
    "$$v_{after} =  -v_{before}.$$"
   ]
  },
  {
   "cell_type": "markdown",
   "id": "64f0fede-361e-4227-9b1d-78fea3f5b7e0",
   "metadata": {},
   "source": [
    "The motion of the ball between the collision is the motion with the constant acceleration $-g$:\n",
    "\n",
    "$$\\frac{\\mathrm{d}^2 y}{\\mathrm{d}t^2} = -g,$$\n",
    "\n",
    "or \n",
    "\n",
    "$$\\frac{\\mathrm{d}y}{\\mathrm{d}t} = v, \\quad \\frac{\\mathrm{d}v}{\\mathrm{d}t} = -g.$$\n",
    "\n",
    "Here $v$ is the velocity of the ball."
   ]
  },
  {
   "cell_type": "markdown",
   "id": "8d0a758a-9b41-40c7-b2e8-6d257305a7c8",
   "metadata": {},
   "source": [
    "Let's introduce dimensionless units:\n",
    "\n",
    "$$Y = \\frac{y}{a}, \\quad \\tau = \\omega t .$$"
   ]
  },
  {
   "cell_type": "markdown",
   "id": "f8fe2384-d907-4cf4-a3fe-2066ea279446",
   "metadata": {},
   "source": [
    "In the new variables $Y$, $\\tau$, the equation of motion are as follows:\n",
    "\n",
    "$$\\frac{\\mathrm{d}^2 Y}{\\mathrm{d}\\tau^2} = -G,$$\n",
    "\n",
    "or\n",
    "\n",
    "$$\\frac{\\mathrm{d}Y}{\\mathrm{d}\\tau} = V, \\quad \\frac{\\mathrm{d}V}{\\mathrm{d}\\tau} = -G,$$\n",
    "\n",
    "where \n",
    "\n",
    "$$G = \\frac{g}{a \\omega^2}$$\n",
    "\n",
    "is the only dimensional parameter of the problem, and\n",
    "\n",
    "$$V = \\frac{v}{a \\omega}$$\n",
    "\n",
    "is the dimensionless velocity of the ball."
   ]
  },
  {
   "cell_type": "markdown",
   "id": "ee9fb745-92b1-4961-8f7d-0644190a4ad3",
   "metadata": {},
   "source": [
    "The conditions of the floor-ball collision in the dimensionless units are as follows:\n",
    "\n",
    "$$Y_{collision} = sin(\\tau), \\quad V_{after} = -V_{before} + 2 \\cos(\\tau). $$"
   ]
  },
  {
   "cell_type": "markdown",
   "id": "fa2dd076-45c4-4935-b812-dbea3ba65a3f",
   "metadata": {},
   "source": [
    "The conditions of the ball-ceiling collision in the dimensionless units are as follows:\n",
    "\n",
    "$$Y_{collision} = L, \\quad V_{after} = -V_{before}, $$\n",
    "\n",
    "wher $L = \\frac{l}{a}$ is the dimensionless height of the ceiling."
   ]
  },
  {
   "cell_type": "markdown",
   "id": "6278b326-fa37-4e7c-b36b-abb8033ba625",
   "metadata": {},
   "source": [
    "The energy of the ball, $e$,  is changing during the collisions. The dimensionless energy of the ball is\n",
    "\n",
    "$$E \\equiv \\frac{e}{m a^2 \\omega^2} = G Y + \\frac{V^2}{2}. $$"
   ]
  },
  {
   "cell_type": "markdown",
   "id": "7a754a75-fe88-4e37-8234-fad9c51d4569",
   "metadata": {},
   "source": [
    "## Numerical solution"
   ]
  },
  {
   "cell_type": "code",
   "execution_count": null,
   "id": "7e8695ba-9859-49d3-a97d-29a968210813",
   "metadata": {},
   "outputs": [],
   "source": [
    "\n",
    "using OrdinaryDiffEqTsit5  # install the package first, if needed"
   ]
  },
  {
   "cell_type": "code",
   "execution_count": null,
   "id": "28c722d7-b539-4c3d-9d85-8bdf26f8891a",
   "metadata": {},
   "outputs": [],
   "source": [
    "\n",
    "using PyPlot"
   ]
  },
  {
   "cell_type": "markdown",
   "id": "5d23d5ec-0eb0-47ea-a765-d506dfdfdeea",
   "metadata": {},
   "source": [
    "\n",
    "The right hand side of the equation of motion, written in a vector form:"
   ]
  },
  {
   "cell_type": "code",
   "execution_count": null,
   "id": "8a1c9df3-9a8a-4bc8-b980-d7ee362b59e3",
   "metadata": {},
   "outputs": [],
   "source": [
    "\n",
    "function fermi!(dudt, u, G, tau)\n",
    "    dudt[1] = your code here\n",
    "    dudt[2] = your code here\n",
    "    return nothing\n",
    "end"
   ]
  },
  {
   "cell_type": "markdown",
   "id": "15718a60-0a82-4035-b9e2-018c88f4f8df",
   "metadata": {},
   "source": [
    "\n",
    "The condition of collision ball-floor: $u[1] = sin(t)$, i.e. $u[1] - sin(t) = 0$.  "
   ]
  },
  {
   "cell_type": "code",
   "execution_count": null,
   "id": "8781bc0a-441d-4ddc-b7e0-2e0b113e2139",
   "metadata": {},
   "outputs": [],
   "source": [
    "\n",
    "function condition_floor(u, t, integrator)\n",
    "  your code here\n",
    "end"
   ]
  },
  {
   "cell_type": "markdown",
   "id": "90345712-0cd5-4f82-afac-a4818f339aab",
   "metadata": {},
   "source": [
    "\n",
    "The condition of the collision ball-ceiling: $u[1] = L$, i.e. $u[1] - L = 0$.  "
   ]
  },
  {
   "cell_type": "code",
   "execution_count": null,
   "id": "8b8cf66e-1f2a-4d5c-baff-36e068a3734c",
   "metadata": {},
   "outputs": [],
   "source": [
    "\n",
    "function condition_ceiling(u, t, integrator)\n",
    "  your code here\n",
    "end"
   ]
  },
  {
   "cell_type": "markdown",
   "id": "b8703a81-5398-4158-8151-8f6c4c84ac7d",
   "metadata": {},
   "source": [
    "\n",
    "Change the velocity of the ball at the instant of collision with the floor:"
   ]
  },
  {
   "cell_type": "code",
   "execution_count": null,
   "id": "af203a92-33e7-4efc-a330-03276efbfa94",
   "metadata": {},
   "outputs": [],
   "source": [
    "\n",
    "function affect_floor!(integrator)\n",
    "    integrator.u[2] = -integrator.u[2] + 2*cos(integrator.t)\n",
    "end"
   ]
  },
  {
   "cell_type": "markdown",
   "id": "5f013e4d-a994-431a-8103-a58da87bf88d",
   "metadata": {},
   "source": [
    "\n",
    "Change the velocity of the ball at the instant of collision with the ceiling:"
   ]
  },
  {
   "cell_type": "code",
   "execution_count": null,
   "id": "d60c7b56-de27-4a26-85dc-db45965fa8ef",
   "metadata": {},
   "outputs": [],
   "source": [
    "\n",
    "function affect_ceiling!(integrator)\n",
    "    integrator.u[2] = -integrator.u[2]\n",
    "end"
   ]
  },
  {
   "cell_type": "markdown",
   "id": "f4f9fafa-f7fa-4ffd-b60c-1d7b39d8ddf0",
   "metadata": {},
   "source": [
    "\n",
    "Callbacks:"
   ]
  },
  {
   "cell_type": "code",
   "execution_count": null,
   "id": "bb114e0b-60aa-43b6-b582-d78db3eab7cb",
   "metadata": {},
   "outputs": [],
   "source": [
    "\n",
    "cb_floor = ContinuousCallback(your code here)\n",
    "cb_ceiling = ContinuousCallback(your code here)\n",
    "cb_complete = CallbackSet(cb_floor, cb_ceiling);"
   ]
  },
  {
   "cell_type": "markdown",
   "id": "3ab5254d-c558-4079-9d77-c922c9649b90",
   "metadata": {},
   "source": [
    "\n",
    "Initial conditions and parameters:"
   ]
  },
  {
   "cell_type": "code",
   "execution_count": null,
   "id": "a6c63c8d-7e96-48da-8246-ca9fa71c362b",
   "metadata": {},
   "outputs": [],
   "source": [
    "\n",
    "u0 = [0.1, 0.0]\n",
    "const G = 1.0\n",
    "const L = 20.0\n",
    "tspan = (0.0, 100.0);"
   ]
  },
  {
   "cell_type": "markdown",
   "id": "23f0c6e4-e630-461c-a577-cc21b0ac703c",
   "metadata": {},
   "source": [
    "\n",
    "Problem statement:"
   ]
  },
  {
   "cell_type": "code",
   "execution_count": null,
   "id": "fdcf093f-2ed1-44e3-be33-c4a401bafcfc",
   "metadata": {},
   "outputs": [],
   "source": [
    "\n",
    "prob = ODEProblem(your code here)"
   ]
  },
  {
   "cell_type": "markdown",
   "id": "da632b98-6940-4176-bc28-cf788277088e",
   "metadata": {},
   "source": [
    "\n",
    "Numerical solution:"
   ]
  },
  {
   "cell_type": "code",
   "execution_count": null,
   "id": "431f08a5-0149-4499-9c43-547b85fb72fc",
   "metadata": {},
   "outputs": [],
   "source": [
    "\n",
    "sol = solve(prob, Tsit5(), callback=cb_complete, dtmax=0.1);"
   ]
  },
  {
   "cell_type": "markdown",
   "id": "5da8b181-e873-4cd4-ba48-45c55144016a",
   "metadata": {},
   "source": [
    "\n",
    "Plot the motion of the ball and the floor:"
   ]
  },
  {
   "cell_type": "code",
   "execution_count": null,
   "id": "df023e77-3321-41c5-838a-067fc222c0e1",
   "metadata": {},
   "outputs": [],
   "source": [
    "\n",
    "plot(sol.t, sol[1,:], label=\"Particle\")\n",
    "plot(sol.t, sin.(sol.t), label=\"Floor\")\n",
    "plot(sol.t, sol.t * 0 .+ L, label=\"Ceiling\", linestyle=\"dashed\")\n",
    "# grid, legend, axes labels\n",
    "title(\"Particle bouncing between an oscillating floor and stationary ceiling\");"
   ]
  },
  {
   "cell_type": "markdown",
   "id": "766654d8-99b2-4981-8e8d-b39df80e6e74",
   "metadata": {},
   "source": [
    "\n",
    "Energy of the ball:"
   ]
  },
  {
   "cell_type": "code",
   "execution_count": null,
   "id": "b318a954-a406-4802-868b-1c6cb752ff6e",
   "metadata": {},
   "outputs": [],
   "source": [
    "\n",
    "function energy(sol)\n",
    "    G * sol[1, :] .+ 0.5 .* (sol[2, :]) .^ 2\n",
    "end"
   ]
  },
  {
   "cell_type": "markdown",
   "id": "17357f1c-c783-4ee1-a1d6-297c569b7d82",
   "metadata": {},
   "source": [
    "\n",
    "Repeat calculations for a longer time span:"
   ]
  },
  {
   "cell_type": "code",
   "execution_count": null,
   "id": "c66fca62-420c-4b43-a2ed-90933beed00a",
   "metadata": {},
   "outputs": [],
   "source": [
    "\n",
    "tspan = (0.0, 500.0)\n",
    "prob = ODEProblem(your code here)\n",
    "sol = solve(prob, Tsit5(), callback=cb_complete, dtmax=0.1);"
   ]
  },
  {
   "cell_type": "code",
   "execution_count": null,
   "id": "0b2559f2-dc2d-4f90-afc8-6832ae5b7ade",
   "metadata": {},
   "outputs": [],
   "source": [
    "\n",
    "en = energy(sol);"
   ]
  },
  {
   "cell_type": "code",
   "execution_count": null,
   "id": "d9184794-2caa-4a45-9d47-87497d490905",
   "metadata": {},
   "outputs": [],
   "source": [
    "\n",
    "plot(sol.t, en)\n",
    "# grid and axes labels\n",
    "title(\"Energy of the particle bouncing between an oscillating floor and stationary ceiling\");"
   ]
  },
  {
   "cell_type": "markdown",
   "id": "3e76b822-1d0a-44b1-955f-a1788506af22",
   "metadata": {},
   "source": [
    "\n",
    "Notice that the energy is changing during the collisions, but it is conserved between the collisions. "
   ]
  },
  {
   "cell_type": "markdown",
   "id": "5cfbc070-4115-4820-8f7d-aa74fcf1d25e",
   "metadata": {},
   "source": [
    "\n",
    "Does the particle monotonously gains energy? Could the Fermi-Ulam model be\n",
    "used to explain observed acceleration of charged particles in cosmic rays? Present\n",
    "your observations and the conclusion."
   ]
  },
  {
   "cell_type": "code",
   "execution_count": null,
   "id": "400c2738-c200-4673-9148-c678f2706609",
   "metadata": {},
   "outputs": [],
   "source": []
  }
 ],
 "metadata": {
  "kernelspec": {
   "display_name": "Julia 1.11.6",
   "language": "julia",
   "name": "julia-1.11"
  },
  "language_info": {
   "file_extension": ".jl",
   "mimetype": "application/julia",
   "name": "julia",
   "version": "1.11.6"
  }
 },
 "nbformat": 4,
 "nbformat_minor": 5
}
